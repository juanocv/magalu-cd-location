{
 "cells": [
  {
   "cell_type": "markdown",
   "id": "b0a0a2ec",
   "metadata": {},
   "source": [
    "# 02 — Recife vs Salvador: Análise de SLA e Cobertura de Demanda\n",
    "\n",
    "Este notebook compara **Recife** e **Salvador** como candidatos a CD, usando:\n",
    "- **Matriz OD para capitais do NE** (`data/processed/osrm/od_capitais_recife_salvador.csv`)\n",
    "- **Matriz OD para Top N municípios por demanda** (`data/processed/osrm/od_municipios_topN_recife_salvador.csv`)\n",
    "- **Resumo de SLA ponderado (Top N)** (`data/processed/osrm/sla_ponderado_topN_summary.csv`)\n",
    "- (Opcional) **Score de consumo municipal** (`data/processed/ibge/consumo_municipal_NE_2021.csv`) para alguns cortes.\n",
    "\n",
    "> Dica: Execute todas as células em ordem. As figuras serão salvas em `reports/figures/` para uso no README/deck.\n"
   ]
  },
  {
   "cell_type": "code",
   "execution_count": 2,
   "id": "89c1865f",
   "metadata": {},
   "outputs": [
    {
     "data": {
      "text/plain": [
       "(18, 500, 2, 1794)"
      ]
     },
     "execution_count": 2,
     "metadata": {},
     "output_type": "execute_result"
    }
   ],
   "source": [
    "from pathlib import Path\n",
    "import pandas as pd\n",
    "import numpy as np\n",
    "import matplotlib.pyplot as plt\n",
    "\n",
    "BASE = Path.cwd().resolve().parent\n",
    "P_CAPITAIS = BASE / \"data\" / \"processed\" / \"osrm\" / \"od_capitais_recife_salvador.csv\"\n",
    "P_MUNI_OD  = BASE / \"data\" / \"processed\" / \"osrm\" / \"od_municipios_topN_recife_salvador.csv\"\n",
    "P_SUMMARY  = BASE / \"data\" / \"processed\" / \"osrm\" / \"sla_ponderado_topN_summary.csv\"\n",
    "P_SCORE    = BASE / \"data\" / \"processed\" / \"ibge\" / \"consumo_municipal_NE_2021.csv\"\n",
    "FIG_DIR    = BASE / \"reports\" / \"figures\"\n",
    "FIG_DIR.mkdir(parents=True, exist_ok=True)\n",
    "\n",
    "df_cap = pd.read_csv(P_CAPITAIS)\n",
    "df_muni = pd.read_csv(P_MUNI_OD)\n",
    "df_sum = pd.read_csv(P_SUMMARY)\n",
    "df_score = pd.read_csv(P_SCORE) if P_SCORE.exists() else None\n",
    "\n",
    "len(df_cap), len(df_muni), len(df_sum), (None if df_score is None else len(df_score))\n"
   ]
  },
  {
   "cell_type": "markdown",
   "id": "cc9df711",
   "metadata": {},
   "source": [
    "## 1) Capitais do NE — comparação direta (horas)\n"
   ]
  },
  {
   "cell_type": "code",
   "execution_count": 3,
   "id": "c5945dbb",
   "metadata": {},
   "outputs": [
    {
     "data": {
      "text/html": [
       "<div>\n",
       "<style scoped>\n",
       "    .dataframe tbody tr th:only-of-type {\n",
       "        vertical-align: middle;\n",
       "    }\n",
       "\n",
       "    .dataframe tbody tr th {\n",
       "        vertical-align: top;\n",
       "    }\n",
       "\n",
       "    .dataframe thead th {\n",
       "        text-align: right;\n",
       "    }\n",
       "</style>\n",
       "<table border=\"1\" class=\"dataframe\">\n",
       "  <thead>\n",
       "    <tr style=\"text-align: right;\">\n",
       "      <th>origem</th>\n",
       "      <th>Recife-PE</th>\n",
       "      <th>Salvador-BA</th>\n",
       "      <th>delta_h_Salvador_menos_Recife</th>\n",
       "    </tr>\n",
       "    <tr>\n",
       "      <th>destino</th>\n",
       "      <th></th>\n",
       "      <th></th>\n",
       "      <th></th>\n",
       "    </tr>\n",
       "  </thead>\n",
       "  <tbody>\n",
       "    <tr>\n",
       "      <th>Salvador-BA</th>\n",
       "      <td>10.79</td>\n",
       "      <td>0.00</td>\n",
       "      <td>-10.79</td>\n",
       "    </tr>\n",
       "    <tr>\n",
       "      <th>Aracaju-SE</th>\n",
       "      <td>6.76</td>\n",
       "      <td>4.45</td>\n",
       "      <td>-2.31</td>\n",
       "    </tr>\n",
       "    <tr>\n",
       "      <th>Teresina-PI</th>\n",
       "      <td>13.95</td>\n",
       "      <td>15.62</td>\n",
       "      <td>1.66</td>\n",
       "    </tr>\n",
       "    <tr>\n",
       "      <th>São Luís-MA</th>\n",
       "      <td>20.49</td>\n",
       "      <td>22.15</td>\n",
       "      <td>1.66</td>\n",
       "    </tr>\n",
       "    <tr>\n",
       "      <th>Maceió-AL</th>\n",
       "      <td>3.58</td>\n",
       "      <td>8.06</td>\n",
       "      <td>4.49</td>\n",
       "    </tr>\n",
       "    <tr>\n",
       "      <th>Fortaleza-CE</th>\n",
       "      <td>11.41</td>\n",
       "      <td>18.00</td>\n",
       "      <td>6.59</td>\n",
       "    </tr>\n",
       "    <tr>\n",
       "      <th>Natal-RN</th>\n",
       "      <td>4.03</td>\n",
       "      <td>14.93</td>\n",
       "      <td>10.90</td>\n",
       "    </tr>\n",
       "    <tr>\n",
       "      <th>João Pessoa-PB</th>\n",
       "      <td>1.76</td>\n",
       "      <td>12.65</td>\n",
       "      <td>10.90</td>\n",
       "    </tr>\n",
       "    <tr>\n",
       "      <th>Recife-PE</th>\n",
       "      <td>0.00</td>\n",
       "      <td>10.99</td>\n",
       "      <td>10.99</td>\n",
       "    </tr>\n",
       "  </tbody>\n",
       "</table>\n",
       "</div>"
      ],
      "text/plain": [
       "origem          Recife-PE  Salvador-BA  delta_h_Salvador_menos_Recife\n",
       "destino                                                              \n",
       "Salvador-BA         10.79         0.00                         -10.79\n",
       "Aracaju-SE           6.76         4.45                          -2.31\n",
       "Teresina-PI         13.95        15.62                           1.66\n",
       "São Luís-MA         20.49        22.15                           1.66\n",
       "Maceió-AL            3.58         8.06                           4.49\n",
       "Fortaleza-CE        11.41        18.00                           6.59\n",
       "Natal-RN             4.03        14.93                          10.90\n",
       "João Pessoa-PB       1.76        12.65                          10.90\n",
       "Recife-PE            0.00        10.99                          10.99"
      ]
     },
     "execution_count": 3,
     "metadata": {},
     "output_type": "execute_result"
    }
   ],
   "source": [
    "# Tabela larga: linhas = capitais destino; colunas = dur_h_Recife-PE / dur_h_Salvador-BA\n",
    "tab_cap = df_cap.pivot(index=\"destino\", columns=\"origem\", values=\"dur_h\").copy()\n",
    "\n",
    "# Guardar nomes padrões\n",
    "col_recife = [c for c in tab_cap.columns if \"Recife\" in c][0]\n",
    "col_salv = [c for c in tab_cap.columns if \"Salvador\" in c][0]\n",
    "\n",
    "tab_cap[\"delta_h_Salvador_menos_Recife\"] = tab_cap[col_salv] - tab_cap[col_recife]\n",
    "tab_cap_sorted = tab_cap.sort_values(\"delta_h_Salvador_menos_Recife\")\n",
    "\n",
    "tab_cap_sorted.round(2)\n"
   ]
  },
  {
   "cell_type": "code",
   "execution_count": 4,
   "id": "3613a051",
   "metadata": {},
   "outputs": [
    {
     "data": {
      "text/plain": [
       "WindowsPath('C:/Users/Juan/magalu-cd-location/reports/figures/capitais_delta_recife_vs_salvador.png')"
      ]
     },
     "execution_count": 4,
     "metadata": {},
     "output_type": "execute_result"
    }
   ],
   "source": [
    "# Barras: diferença (Salvador - Recife), negativo = Recife mais rápido\n",
    "ax = tab_cap_sorted[\"delta_h_Salvador_menos_Recife\"].plot(kind=\"barh\", figsize=(8,6))\n",
    "ax.set_xlabel(\"Diferença de tempo (h) — Salvador - Recife\")\n",
    "ax.set_ylabel(\"Capital destino\")\n",
    "ax.set_title(\"Capitais NE: quem chega mais rápido? (negativo favorece Recife)\")\n",
    "fig_path = FIG_DIR / \"capitais_delta_recife_vs_salvador.png\"\n",
    "plt.tight_layout(); plt.savefig(fig_path, dpi=160); plt.close()\n",
    "fig_path\n"
   ]
  },
  {
   "cell_type": "markdown",
   "id": "f71f0be5",
   "metadata": {},
   "source": [
    "### Observações rápidas\n",
    "- Valores **negativos** favorecem **Recife** (mais rápido).\n",
    "- Valores **positivos** favorecem **Salvador**.\n",
    "- Use esta figura no deck para mostrar **vantagem relativa** por capital.\n"
   ]
  },
  {
   "cell_type": "markdown",
   "id": "43b54f06",
   "metadata": {},
   "source": [
    "## 2) Top N municípios — SLA ponderado por demanda"
   ]
  },
  {
   "cell_type": "code",
   "execution_count": 5,
   "id": "65dea641",
   "metadata": {},
   "outputs": [
    {
     "data": {
      "text/html": [
       "<div>\n",
       "<style scoped>\n",
       "    .dataframe tbody tr th:only-of-type {\n",
       "        vertical-align: middle;\n",
       "    }\n",
       "\n",
       "    .dataframe tbody tr th {\n",
       "        vertical-align: top;\n",
       "    }\n",
       "\n",
       "    .dataframe thead th {\n",
       "        text-align: right;\n",
       "    }\n",
       "</style>\n",
       "<table border=\"1\" class=\"dataframe\">\n",
       "  <thead>\n",
       "    <tr style=\"text-align: right;\">\n",
       "      <th></th>\n",
       "      <th>origem</th>\n",
       "      <th>N</th>\n",
       "      <th>tempo_medio_ponderado_h</th>\n",
       "      <th>p50_h</th>\n",
       "      <th>p80_h</th>\n",
       "      <th>p90_h</th>\n",
       "    </tr>\n",
       "  </thead>\n",
       "  <tbody>\n",
       "    <tr>\n",
       "      <th>0</th>\n",
       "      <td>Recife-PE</td>\n",
       "      <td>500</td>\n",
       "      <td>8.992497</td>\n",
       "      <td>10.402056</td>\n",
       "      <td>14.012472</td>\n",
       "      <td>18.495889</td>\n",
       "    </tr>\n",
       "    <tr>\n",
       "      <th>1</th>\n",
       "      <td>Salvador-BA</td>\n",
       "      <td>500</td>\n",
       "      <td>11.435143</td>\n",
       "      <td>11.307556</td>\n",
       "      <td>17.883222</td>\n",
       "      <td>18.254167</td>\n",
       "    </tr>\n",
       "  </tbody>\n",
       "</table>\n",
       "</div>"
      ],
      "text/plain": [
       "        origem    N  tempo_medio_ponderado_h      p50_h      p80_h      p90_h\n",
       "0    Recife-PE  500                 8.992497  10.402056  14.012472  18.495889\n",
       "1  Salvador-BA  500                11.435143  11.307556  17.883222  18.254167"
      ]
     },
     "execution_count": 5,
     "metadata": {},
     "output_type": "execute_result"
    }
   ],
   "source": [
    "# Resumo calculado no script: média ponderada e p50/p80/p90\n",
    "df_sum_display = df_sum.copy().sort_values(\"tempo_medio_ponderado_h\")\n",
    "df_sum_display\n"
   ]
  },
  {
   "cell_type": "code",
   "execution_count": 6,
   "id": "949d32c1",
   "metadata": {},
   "outputs": [
    {
     "data": {
      "text/plain": [
       "WindowsPath('C:/Users/Juan/magalu-cd-location/reports/figures/topN_media_ponderada.png')"
      ]
     },
     "execution_count": 6,
     "metadata": {},
     "output_type": "execute_result"
    }
   ],
   "source": [
    "# Barras: tempo médio ponderado (h)\n",
    "ax = df_sum_display.plot(x=\"origem\", y=\"tempo_medio_ponderado_h\", kind=\"bar\", legend=False)\n",
    "ax.set_xlabel(\"Origem (CD)\")\n",
    "ax.set_ylabel(\"Tempo médio ponderado (h)\")\n",
    "ax.set_title(\"Top N municípios: tempo médio ponderado por demanda\")\n",
    "fig_path = FIG_DIR / \"topN_media_ponderada.png\"\n",
    "plt.tight_layout(); plt.savefig(fig_path, dpi=160); plt.close()\n",
    "fig_path\n"
   ]
  },
  {
   "cell_type": "code",
   "execution_count": 7,
   "id": "7e0197a9",
   "metadata": {},
   "outputs": [
    {
     "data": {
      "text/plain": [
       "WindowsPath('C:/Users/Juan/magalu-cd-location/reports/figures/cdf_ponderada_topN.png')"
      ]
     },
     "execution_count": 7,
     "metadata": {},
     "output_type": "execute_result"
    }
   ],
   "source": [
    "# CDF ponderada (curva de atendimento): % da demanda atendida até t horas\n",
    "def weighted_cdf(vals, weights, grid_hours=None):\n",
    "    s = pd.DataFrame({\"v\": vals, \"w\": weights}).dropna()\n",
    "    if s.empty or s[\"w\"].sum() <= 0:\n",
    "        return pd.DataFrame({\"h\": [], \"cdf\": []})\n",
    "    s = s.sort_values(\"v\")\n",
    "    s[\"cw\"] = s[\"w\"].cumsum() / s[\"w\"].sum()\n",
    "    if grid_hours is None:\n",
    "        grid_hours = np.linspace(s[\"v\"].min(), s[\"v\"].max(), 50)\n",
    "    out = []\n",
    "    for h in grid_hours:\n",
    "        out.append({\"h\": h, \"cdf\": float(s.loc[s[\"v\"] <= h, \"w\"].sum() / s[\"w\"].sum())})\n",
    "    return pd.DataFrame(out)\n",
    "\n",
    "# monta duas CDFs (Recife e Salvador)\n",
    "vals_r = df_muni.get(\"dur_h_Recife-PE\").values\n",
    "vals_s = df_muni.get(\"dur_h_Salvador-BA\").values\n",
    "if \"w_norm\" in df_muni.columns:\n",
    "    weights = df_muni[\"w_norm\"].values\n",
    "else:\n",
    "    weights = (df_muni[\"demand_weight\"].values / df_muni[\"demand_weight\"].sum())\n",
    "\n",
    "grid = np.linspace(min(np.nanmin(vals_r), np.nanmin(vals_s)),\n",
    "                   max(np.nanmax(vals_r), np.nanmax(vals_s)), 80)\n",
    "cdf_r = weighted_cdf(vals_r, weights, grid)\n",
    "cdf_s = weighted_cdf(vals_s, weights, grid)\n",
    "\n",
    "# Plot\n",
    "plt.figure(figsize=(8,6))\n",
    "plt.plot(cdf_r[\"h\"], cdf_r[\"cdf\"], label=\"Recife-PE\")\n",
    "plt.plot(cdf_s[\"h\"], cdf_s[\"cdf\"], label=\"Salvador-BA\")\n",
    "plt.xlabel(\"Tempo de viagem (h)\")\n",
    "plt.ylabel(\"Demanda acumulada atendida\")\n",
    "plt.title(\"CDF ponderada — % demanda atendida até t horas (Top N municípios)\")\n",
    "plt.legend()\n",
    "fig_path = FIG_DIR / \"cdf_ponderada_topN.png\"\n",
    "plt.tight_layout(); plt.savefig(fig_path, dpi=160); plt.close()\n",
    "fig_path\n"
   ]
  },
  {
   "cell_type": "markdown",
   "id": "cd133483",
   "metadata": {},
   "source": [
    "### Métricas de SLA (limiares)\n",
    "Abaixo calculamos, para cada origem, **% da demanda (Top N)** atendida em **≤ 12h, 24h, 36h**.\n"
   ]
  },
  {
   "cell_type": "code",
   "execution_count": 8,
   "id": "99960803",
   "metadata": {},
   "outputs": [
    {
     "data": {
      "text/html": [
       "<div>\n",
       "<style scoped>\n",
       "    .dataframe tbody tr th:only-of-type {\n",
       "        vertical-align: middle;\n",
       "    }\n",
       "\n",
       "    .dataframe tbody tr th {\n",
       "        vertical-align: top;\n",
       "    }\n",
       "\n",
       "    .dataframe thead th {\n",
       "        text-align: right;\n",
       "    }\n",
       "</style>\n",
       "<table border=\"1\" class=\"dataframe\">\n",
       "  <thead>\n",
       "    <tr style=\"text-align: right;\">\n",
       "      <th></th>\n",
       "      <th>origem</th>\n",
       "      <th>pct_&lt;=_12h</th>\n",
       "      <th>pct_&lt;=_24h</th>\n",
       "      <th>pct_&lt;=_36h</th>\n",
       "    </tr>\n",
       "  </thead>\n",
       "  <tbody>\n",
       "    <tr>\n",
       "      <th>0</th>\n",
       "      <td>Recife-PE</td>\n",
       "      <td>0.762491</td>\n",
       "      <td>0.992044</td>\n",
       "      <td>1.0</td>\n",
       "    </tr>\n",
       "    <tr>\n",
       "      <th>1</th>\n",
       "      <td>Salvador-BA</td>\n",
       "      <td>0.534256</td>\n",
       "      <td>0.992648</td>\n",
       "      <td>1.0</td>\n",
       "    </tr>\n",
       "  </tbody>\n",
       "</table>\n",
       "</div>"
      ],
      "text/plain": [
       "        origem  pct_<=_12h  pct_<=_24h  pct_<=_36h\n",
       "0    Recife-PE    0.762491    0.992044         1.0\n",
       "1  Salvador-BA    0.534256    0.992648         1.0"
      ]
     },
     "execution_count": 8,
     "metadata": {},
     "output_type": "execute_result"
    }
   ],
   "source": [
    "def pct_within(vals, weights, thr):\n",
    "    s = pd.DataFrame({\"v\": vals, \"w\": weights}).dropna()\n",
    "    if s.empty or s[\"w\"].sum() <= 0:\n",
    "        return np.nan\n",
    "    return float(s.loc[s[\"v\"] <= thr, \"w\"].sum() / s[\"w\"].sum())\n",
    "\n",
    "thr_list = [12, 24, 36]\n",
    "rows = []\n",
    "for lbl, col in [(\"Recife-PE\", \"dur_h_Recife-PE\"), (\"Salvador-BA\", \"dur_h_Salvador-BA\")]:\n",
    "    vals = df_muni[col].values\n",
    "    ws = df_muni[\"w_norm\"].values if \"w_norm\" in df_muni.columns else (df_muni[\"demand_weight\"].values / df_muni[\"demand_weight\"].sum())\n",
    "    row = {\"origem\": lbl}\n",
    "    for t in thr_list:\n",
    "        row[f\"pct_<=_{t}h\"] = pct_within(vals, ws, t)\n",
    "    rows.append(row)\n",
    "\n",
    "df_sla = pd.DataFrame(rows)\n",
    "df_sla\n"
   ]
  },
  {
   "cell_type": "code",
   "execution_count": 9,
   "id": "db8b46d6",
   "metadata": {},
   "outputs": [
    {
     "data": {
      "text/plain": [
       "WindowsPath('C:/Users/Juan/magalu-cd-location/reports/figures/sla_pct_le_36h.png')"
      ]
     },
     "execution_count": 9,
     "metadata": {},
     "output_type": "execute_result"
    }
   ],
   "source": [
    "# Barras separadas para 12/24/36h (salva figuras)\n",
    "for t in [12, 24, 36]:\n",
    "    ax = df_sla.plot(x=\"origem\", y=f\"pct_<=_{t}h\", kind=\"bar\", legend=False)\n",
    "    ax.set_ylim(0,1)\n",
    "    ax.set_xlabel(\"Origem (CD)\")\n",
    "    ax.set_ylabel(f\"% demanda <= {t}h\")\n",
    "    ax.set_title(f\"Cobertura de SLA (Top N): % demanda atendida em ≤ {t}h\")\n",
    "    fig_path = FIG_DIR / f\"sla_pct_le_{t}h.png\"\n",
    "    plt.tight_layout(); plt.savefig(fig_path, dpi=160); plt.close()\n",
    "fig_path\n"
   ]
  },
  {
   "cell_type": "markdown",
   "id": "a2d35944",
   "metadata": {},
   "source": [
    "## 3) Corte por UF (entender trade-offs estaduais)\n"
   ]
  },
  {
   "cell_type": "code",
   "execution_count": 10,
   "id": "d2cb2c85",
   "metadata": {},
   "outputs": [],
   "source": [
    "# Se o arquivo od_municipios_topN tiver 'sigla', dá para fazer cortes por UF\n",
    "if \"sigla\" in df_muni.columns:\n",
    "    g = (df_muni.groupby([\"sigla\"], as_index=False)\n",
    "                  .agg(peso=(\"w_norm\",\"sum\"),\n",
    "                       media_h_recife=(\"dur_h_Recife-PE\",\"mean\"),\n",
    "                       media_h_salvador=(\"dur_h_Salvador-BA\",\"mean\"))\n",
    "                  .sort_values(\"peso\", ascending=False))\n",
    "    g.head(12)\n",
    "else:\n",
    "    print(\"Coluna 'sigla' não encontrada em od_municipios_topN_recife_salvador.csv; pule esta análise.\")\n"
   ]
  },
  {
   "cell_type": "markdown",
   "id": "bb8235b4",
   "metadata": {},
   "source": [
    "## 4) Sumário executivo automatizado\n",
    "\n",
    "Gera um parágrafo com os **principais números** (média ponderada, p80/p90, e coberturas de 12/24/36h) para Recife e Salvador.\n"
   ]
  },
  {
   "cell_type": "code",
   "execution_count": 11,
   "id": "5b7c0de2",
   "metadata": {},
   "outputs": [
    {
     "name": "stdout",
     "output_type": "stream",
     "text": [
      "\n",
      "**Tempo médio ponderado (Top N):**\n",
      "- Recife: 8.99 h  |  P50 10.4 h  ·  P80 14.0 h  ·  P90 18.5 h\n",
      "- Salvador: 11.44 h  |  P50 11.3 h  ·  P80 17.9 h  ·  P90 18.3 h\n",
      "\n",
      "**Cobertura de SLA (Top N):**\n",
      "- Recife: ≤12h 76.2%, ≤24h 99.2%, ≤36h 100.0%\n",
      "- Salvador: ≤12h 53.4%, ≤24h 99.3%, ≤36h 100.0%\n",
      "\n"
     ]
    }
   ],
   "source": [
    "def fmt_pct(x): \n",
    "    return f\"{100*x:.1f}%\" if pd.notna(x) else \"n/d\"\n",
    "\n",
    "df_sum_display = df_sum.copy().sort_values(\"tempo_medio_ponderado_h\")\n",
    "rec = df_sum_display[df_sum_display[\"origem\"].str.contains(\"Recife\")].iloc[0].to_dict()\n",
    "sal = df_sum_display[df_sum_display[\"origem\"].str.contains(\"Salvador\")].iloc[0].to_dict()\n",
    "\n",
    "sla_map = df_sla.set_index(\"origem\").to_dict(orient=\"index\")\n",
    "\n",
    "summary_text = f'''\n",
    "**Tempo médio ponderado (Top N):**\n",
    "- Recife: {rec[\"tempo_medio_ponderado_h\"]:.2f} h  |  P50 {rec[\"p50_h\"]:.1f} h  ·  P80 {rec[\"p80_h\"]:.1f} h  ·  P90 {rec[\"p90_h\"]:.1f} h\n",
    "- Salvador: {sal[\"tempo_medio_ponderado_h\"]:.2f} h  |  P50 {sal[\"p50_h\"]:.1f} h  ·  P80 {sal[\"p80_h\"]:.1f} h  ·  P90 {sal[\"p90_h\"]:.1f} h\n",
    "\n",
    "**Cobertura de SLA (Top N):**\n",
    "- Recife: ≤12h {fmt_pct(sla_map[\"Recife-PE\"][\"pct_<=_12h\"])}, ≤24h {fmt_pct(sla_map[\"Recife-PE\"][\"pct_<=_24h\"])}, ≤36h {fmt_pct(sla_map[\"Recife-PE\"][\"pct_<=_36h\"]) }\n",
    "- Salvador: ≤12h {fmt_pct(sla_map[\"Salvador-BA\"][\"pct_<=_12h\"])}, ≤24h {fmt_pct(sla_map[\"Salvador-BA\"][\"pct_<=_24h\"])}, ≤36h {fmt_pct(sla_map[\"Salvador-BA\"][\"pct_<=_36h\"]) }\n",
    "'''\n",
    "print(summary_text)\n"
   ]
  },
  {
   "cell_type": "markdown",
   "id": "49b42190",
   "metadata": {},
   "source": [
    "## 5) Próximos passos (opcional)\n",
    "- Rodar matrizes com **N maior** (Top 1.000–2.000) e verificar estabilidade dos resultados.\n",
    "- Calibrar perfis (velocidades) do OSRM (`car.lua`) para refletir **cenários conservadores** (chuva/estradas).\n",
    "- Cruzar com **custos logísticos** e **custos imobiliários** por cidade para compor o **TCO** do CD.\n",
    "- Repetir as métricas com **janelas temporais** (pico/vale) se você tiver dados de trânsito.\n"
   ]
  }
 ],
 "metadata": {
  "kernelspec": {
   "display_name": ".venv",
   "language": "python",
   "name": "python3"
  },
  "language_info": {
   "codemirror_mode": {
    "name": "ipython",
    "version": 3
   },
   "file_extension": ".py",
   "mimetype": "text/x-python",
   "name": "python",
   "nbconvert_exporter": "python",
   "pygments_lexer": "ipython3",
   "version": "3.13.0"
  }
 },
 "nbformat": 4,
 "nbformat_minor": 5
}
